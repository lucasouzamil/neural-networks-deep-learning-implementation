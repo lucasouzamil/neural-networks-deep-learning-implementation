{
 "cells": [
  {
   "cell_type": "markdown",
   "id": "c6c6f997",
   "metadata": {},
   "source": [
    "## Exercise 1\n",
    "\n",
    "### **Exploring Class Separability in 2D**\n",
    "\n",
    "Understanding how data is distributed is the first step before designing a network architecture. In this exercise, you will generate and visualize a two-dimensional dataset to explore how data distribution affects the complexity of the decision boundaries a neural network would need to learn.\n",
    "\n",
    "### **Instructions**\n",
    "\n",
    "1.  **Generate the Data:** Create a synthetic dataset with a total of 400 samples, divided equally among 4 classes (100 samples each). Use a Gaussian distribution to generate the points for each class based on the following parameters:\n",
    "    * **Class 0:** Mean = $[2, 3]$, Standard Deviation = $[0.8, 2.5]$\n",
    "    * **Class 1:** Mean = $[5, 6]$, Standard Deviation = $[1.2, 1.9]$\n",
    "    * **Class 2:** Mean = $[8, 1]$, Standard Deviation = $[0.9, 0.9]$\n",
    "    * **Class 3:** Mean = $[15, 4]$, Standard Deviation = $[0.5, 2.0]$\n",
    "1.  **Plot the Data:** Create a 2D scatter plot showing all the data points. Use a different color for each class to make them distinguishable.\n",
    "1.  **Analyze and Draw Boundaries:**\n",
    "    1. Examine the scatter plot carefully. Describe the distribution and overlap of the four classes.\n",
    "    1. Based on your visual inspection, could a simple, linear boundary separate all classes?\n",
    "    1. On your plot, sketch the decision boundaries that you think a trained neural network might learn to separate these classes."
   ]
  },
  {
   "cell_type": "markdown",
   "id": "328ee6ba",
   "metadata": {},
   "source": []
  },
  {
   "cell_type": "markdown",
   "id": "9c1b285d",
   "metadata": {},
   "source": [
    "## Exercise 2\n",
    "\n",
    "### **Non-Linearity in Higher Dimensions**\n",
    "\n",
    "Simple neural networks (like a Perceptron) can only learn linear boundaries. Deep networks excel when data is not linearly separable. This exercise challenges you to create and visualize such a dataset.\n",
    "\n",
    "### **Instructions**\n",
    "\n",
    "1.  **Generate the Data:** Create a dataset with 500 samples for Class A and 500 samples for Class B. Use a multivariate normal distribution with the following parameters:\n",
    "\n",
    "    * **Class A:**\n",
    "\n",
    "        Mean vector:\n",
    "\n",
    "        $$\\mu_A = [0, 0, 0, 0, 0]$$\n",
    "\n",
    "        Covariance matrix:\n",
    "\n",
    "        $$\n",
    "        \\Sigma_A = \\begin{pmatrix}\n",
    "        1.0 & 0.8 & 0.1 & 0.0 & 0.0 \\\\\n",
    "        0.8 & 1.0 & 0.3 & 0.0 & 0.0 \\\\\n",
    "        0.1 & 0.3 & 1.0 & 0.5 & 0.0 \\\\\n",
    "        0.0 & 0.0 & 0.5 & 1.0 & 0.2 \\\\\n",
    "        0.0 & 0.0 & 0.0 & 0.2 & 1.0\n",
    "        \\end{pmatrix}\n",
    "        $$\n",
    "\n",
    "    * **Class B:**\n",
    "\n",
    "        Mean vector:\n",
    "            \n",
    "        $$\\mu_B = [1.5, 1.5, 1.5, 1.5, 1.5]$$\n",
    "        \n",
    "        Covariance matrix:\n",
    "\n",
    "        $$\n",
    "        \\Sigma_B = \\begin{pmatrix}\n",
    "        1.5 & -0.7 & 0.2 & 0.0 & 0.0 \\\\\n",
    "        -0.7 & 1.5 & 0.4 & 0.0 & 0.0 \\\\\n",
    "        0.2 & 0.4 & 1.5 & 0.6 & 0.0 \\\\\n",
    "        0.0 & 0.0 & 0.6 & 1.5 & 0.3 \\\\\n",
    "        0.0 & 0.0 & 0.0 & 0.3 & 1.5\n",
    "        \\end{pmatrix}\n",
    "        $$\n",
    "\n",
    "1.  **Visualize the Data:** Since you cannot directly plot a 5D graph, you must reduce its dimensionality.\n",
    "    * Use a technique like **Principal Component Analysis (PCA)** to project the 5D data down to 2 dimensions.\n",
    "    * Create a scatter plot of this 2D representation, coloring the points by their class (A or B).\n",
    "1.  **Analyze the Plots:**\n",
    "    1. Based on your 2D projection, describe the relationship between the two classes.\n",
    "    1. Discuss the **linear separability** of the data. Explain why this type of data structure poses a challenge for simple linear models and would likely require a multi-layer neural network with non-linear activation functions to be classified accurately.\n"
   ]
  },
  {
   "cell_type": "markdown",
   "id": "96a1f775",
   "metadata": {},
   "source": []
  },
  {
   "cell_type": "markdown",
   "id": "ccbe3c34",
   "metadata": {},
   "source": [
    "## Exercise 3\n",
    "\n",
    "### **Preparing Real-World Data for a Neural Network**\n",
    "\n",
    "This exercise uses a real dataset from Kaggle. Your task is to perform the necessary preprocessing to make it suitable for a neural network that uses the hyperbolic tangent (`tanh`) activation function in its hidden layers.\n",
    "\n",
    "### **Instructions**\n",
    "\n",
    "1.  **Get the Data:** Download the [**Spaceship Titanic**](https://www.kaggle.com/competitions/spaceship-titanic){:target=\"_blank\"} dataset from Kaggle.\n",
    "2.  **Describe the Data:**\n",
    "    * Briefly describe the dataset's objective (i.e., what does the `Transported` column represent?).\n",
    "    * List the features and identify which are **numerical** (e.g., `Age`, `RoomService`) and which are **categorical** (e.g., `HomePlanet`, `Destination`).\n",
    "    * Investigate the dataset for **missing values**. Which columns have them, and how many?\n",
    "3.  **Preprocess the Data:** Your goal is to clean and transform the data so it can be fed into a neural network. The `tanh` activation function produces outputs in the range `[-1, 1]`, so your input data should be scaled appropriately for stable training.\n",
    "    * **Handle Missing Data:** Devise and implement a strategy to handle the missing values in all the affected columns. Justify your choices.\n",
    "    * **Encode Categorical Features:** Convert categorical columns like `HomePlanet`, `CryoSleep`, and `Destination` into a numerical format. One-hot encoding is a good choice.\n",
    "    * **Normalize/Standardize Numerical Features:** Scale the numerical columns (e.g., `Age`, `RoomService`, etc.). Since the `tanh` activation function is centered at zero and outputs values in `[-1, 1]`, **Standardization** (to mean 0, std 1) or **Normalization** to a `[-1, 1]` range are excellent choices. Implement one and explain why it is a good practice for training neural networks with this activation function.\n",
    "4.  **Visualize the Results:**\n",
    "    * Create histograms for one or two numerical features (like `FoodCourt` or `Age`) **before** and **after** scaling to show the effect of your transformation.\n"
   ]
  },
  {
   "cell_type": "markdown",
   "id": "9b672bb8",
   "metadata": {},
   "source": []
  }
 ],
 "metadata": {
  "language_info": {
   "name": "python"
  }
 },
 "nbformat": 4,
 "nbformat_minor": 5
}
